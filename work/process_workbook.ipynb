{
 "cells": [
  {
   "cell_type": "markdown",
   "metadata": {},
   "source": [
    "load in the tracks from GNSS-SDR calculations\n",
    "\n"
   ]
  },
  {
   "cell_type": "code",
   "execution_count": 2,
   "metadata": {},
   "outputs": [
    {
     "ename": "ImportError",
     "evalue": "attempted relative import with no known parent package",
     "output_type": "error",
     "traceback": [
      "\u001b[0;31m---------------------------------------------------------------------------\u001b[0m",
      "\u001b[0;31mImportError\u001b[0m                               Traceback (most recent call last)",
      "\u001b[1;32m/home/darren/src/gnss-sdr/work/process_workbook.ipynb Cell 2\u001b[0m in \u001b[0;36m<cell line: 14>\u001b[0;34m()\u001b[0m\n\u001b[1;32m     <a href='vscode-notebook-cell://ssh-remote%2Bmoffett3_darren/home/darren/src/gnss-sdr/work/process_workbook.ipynb#ch0000001vscode-remote?line=10'>11</a>\u001b[0m \u001b[39mif\u001b[39;00m parent_dir \u001b[39mnot\u001b[39;00m \u001b[39min\u001b[39;00m sys\u001b[39m.\u001b[39mpath:\n\u001b[1;32m     <a href='vscode-notebook-cell://ssh-remote%2Bmoffett3_darren/home/darren/src/gnss-sdr/work/process_workbook.ipynb#ch0000001vscode-remote?line=11'>12</a>\u001b[0m     sys\u001b[39m.\u001b[39mpath\u001b[39m.\u001b[39mappend(parent_dir)\n\u001b[0;32m---> <a href='vscode-notebook-cell://ssh-remote%2Bmoffett3_darren/home/darren/src/gnss-sdr/work/process_workbook.ipynb#ch0000001vscode-remote?line=13'>14</a>\u001b[0m \u001b[39mfrom\u001b[39;00m \u001b[39m.\u001b[39;00m\u001b[39m.\u001b[39;00m\u001b[39msrc\u001b[39;00m\u001b[39m.\u001b[39;00m\u001b[39mutils\u001b[39;00m\u001b[39m.\u001b[39;00m\u001b[39mpython\u001b[39;00m\u001b[39m.\u001b[39;00m\u001b[39mgnssSdr\u001b[39;00m \u001b[39mimport\u001b[39;00m load_dumpMat, GnssTrack\n\u001b[1;32m     <a href='vscode-notebook-cell://ssh-remote%2Bmoffett3_darren/home/darren/src/gnss-sdr/work/process_workbook.ipynb#ch0000001vscode-remote?line=15'>16</a>\u001b[0m dr_path \u001b[39m=\u001b[39m \u001b[39m'\u001b[39m\u001b[39m/home/darren/src/gnss-sdr/data/\u001b[39m\u001b[39m'\u001b[39m\n\u001b[1;32m     <a href='vscode-notebook-cell://ssh-remote%2Bmoffett3_darren/home/darren/src/gnss-sdr/work/process_workbook.ipynb#ch0000001vscode-remote?line=18'>19</a>\u001b[0m fname_sbas_bruce2 \u001b[39m=\u001b[39m \u001b[39m'\u001b[39m\u001b[39msbas/multi/mini_0718_4m_bruce_lna_t2\u001b[39m\u001b[39m'\u001b[39m\n",
      "\u001b[0;31mImportError\u001b[0m: attempted relative import with no known parent package"
     ]
    }
   ],
   "source": [
    "from random import sample\n",
    "import h5py\n",
    "import numpy as np\n",
    "import matplotlib.pyplot as plt\n",
    "from mpl_toolkits.mplot3d import Axes3D\n",
    "import argparse\n",
    "import sys, os, shutil\n",
    "import glob\n",
    "\n",
    "parent_dir = os.path.abspath('..')\n",
    "if parent_dir not in sys.path:\n",
    "    sys.path.append(parent_dir)\n",
    "    \n",
    "from ..src.utils.python.gnssSdr import load_dumpMat, GnssTrack\n",
    "\n",
    "dr_path = '/home/darren/src/gnss-sdr/data/'\n",
    "\n",
    "\n",
    "fname_sbas_bruce2 = 'sbas/multi/mini_0718_4m_bruce_lna_t2'\n",
    "\n",
    "track_trial = GnssTrack('trialB', )"
   ]
  },
  {
   "cell_type": "code",
   "execution_count": null,
   "metadata": {},
   "outputs": [],
   "source": [
    "# do a plot for just 1 geo\n",
    "track_trial.plot_geoTrack(0)\n"
   ]
  },
  {
   "cell_type": "code",
   "execution_count": null,
   "metadata": {},
   "outputs": [],
   "source": [
    "# plot all gps tracks\n",
    "track_trial.plot_allGps()"
   ]
  }
 ],
 "metadata": {
  "kernelspec": {
   "display_name": "Python 3.8.10 ('python-7e4EE7C5')",
   "language": "python",
   "name": "python3"
  },
  "language_info": {
   "codemirror_mode": {
    "name": "ipython",
    "version": 3
   },
   "file_extension": ".py",
   "mimetype": "text/x-python",
   "name": "python",
   "nbconvert_exporter": "python",
   "pygments_lexer": "ipython3",
   "version": "3.8.10"
  },
  "orig_nbformat": 4,
  "vscode": {
   "interpreter": {
    "hash": "e3b76b3dd48041c3a36c0a54ac078ac998fae92f5053122197187ed02329f71a"
   }
  }
 },
 "nbformat": 4,
 "nbformat_minor": 2
}
